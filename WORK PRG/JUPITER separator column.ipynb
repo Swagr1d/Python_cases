{
 "cells": [
  {
   "cell_type": "code",
   "execution_count": null,
   "metadata": {},
   "outputs": [
    {
     "name": "stdout",
     "output_type": "stream",
     "text": [
      "     code                 area        cost          \\\n",
      "0    28:10:132255:64          993.0     503535.66    \n",
      "1    28:10:132255:245         705.0     309395.32    \n",
      "2    28:10:132255:109         799.0     404448.9     \n",
      "3    28:10:132053:70                                 \n",
      "4    28:10:132043:216                                \n",
      "..                   ...         ...           ...   \n",
      "454  28:01:020002:147         891.0     738402.55    \n",
      "455  28:01:000000:11878   2426800.0   29728300.0     \n",
      "456  28:01:000000:11401      1544.0     555361.16    \n",
      "457  28:01:000000:10914                              \n",
      "458  28:01:000000:10418       600.0     367742.99    \n",
      "\n",
      "    address                                                                                                                                                                                                                                    \\\n",
      "0    Амурская область, р-н Благовещенский, с Чигири...                                                                                                                                                                                          \n",
      "1    РФ, Амурская область, муниципальный район Благ...                                                                                                                                                                                          \n",
      "2    Амурская область, р-н Благовещенский, с Чигири...                                                                                                                                                                                          \n",
      "3                                                  ...                                                                                                                                                                                          \n",
      "4                                                  ...                                                                                                                                                                                          \n",
      "..                                                 ...                                                                                                                                                                                          \n",
      "454  Амурская область, г Благовещенск, в квартале 5...                                                                                                                                                                                          \n",
      "455  Амурская область, г Благовещенск              ...                                                                                                                                                                                          \n",
      "456  Амурская область, г Благовещенск, с/т Преображ...                                                                                                                                                                                          \n",
      "457                                                ...                                                                                                                                                                                          \n",
      "458  Амурская область, г Благовещенск, с/т \"Дубрава...                                                                                                                                                                                          \n",
      "\n",
      "                                        coordinates  \n",
      "0     [[[[50.33429977282507, 127.50027738345531]]]]  \n",
      "1    [[[[50.332825479624795, 127.49875197729381]]]]  \n",
      "2    [[[[50.335964004517855, 127.49902379841515]]]]  \n",
      "3                                                []  \n",
      "4                                                []  \n",
      "..                                              ...  \n",
      "454  [[[[50.337063867953844, 127.57548348830586]]]]  \n",
      "455   [[[[50.30050533867461, 127.46853259552816]]]]  \n",
      "456   [[[[50.30011497977442, 127.48585927513193]]]]  \n",
      "457                                              []  \n",
      "458                                              []  \n",
      "\n",
      "[459 rows x 5 columns]\n"
     ]
    }
   ],
   "source": [
    "import pandas as pd\n",
    "import numpy as np\n",
    "import seaborn as sns\n",
    "\n",
    "data = pd.read_csv('cadastral_numbers_list.csv')\n",
    "print(data)\n",
    "df = pd.DataFrame(data)\n",
    "\n",
    "# Очистка данных от лишних символов и пробелов\n",
    "df = df.replace({r\"\\[\\[\\[\\[|\\]\\]\\]\\]\": \"\"}, regex=True)  # Убираем [[[ и ]]] метод replace заменит их на \"\"\n",
    "df = df.applymap(lambda x: x.strip() if isinstance(x, str) else x)  # Убираем пробелы в начале и конце\n",
    "df = df.applymap(lambda x: \" \".join(x.split()) if isinstance(x, str) else x)  # Убираем лишние пробелы между словами\n",
    "\n",
    "\n",
    "# Сохранение DataFrame в Excel: индекс false для разбивки по строкам\n",
    "df.to_excel(\"coord_result_list.xlsx\", index=False, engine=\"openpyxl\")\n",
    "\n"
   ]
  }
 ],
 "metadata": {
  "kernelspec": {
   "display_name": "base",
   "language": "python",
   "name": "python3"
  },
  "language_info": {
   "codemirror_mode": {
    "name": "ipython",
    "version": 3
   },
   "file_extension": ".py",
   "mimetype": "text/x-python",
   "name": "python",
   "nbconvert_exporter": "python",
   "pygments_lexer": "ipython3",
   "version": "3.11.8"
  }
 },
 "nbformat": 4,
 "nbformat_minor": 2
}
